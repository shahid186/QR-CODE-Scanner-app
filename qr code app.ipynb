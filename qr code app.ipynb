{
 "cells": [
  {
   "cell_type": "code",
   "execution_count": null,
   "id": "6e2b67a4-771a-417d-a951-68586ee4b643",
   "metadata": {},
   "outputs": [
    {
     "name": "stdout",
     "output_type": "stream",
     "text": [
      " * Serving Flask app '__main__'\n",
      " * Debug mode: on\n"
     ]
    },
    {
     "name": "stderr",
     "output_type": "stream",
     "text": [
      "WARNING: This is a development server. Do not use it in a production deployment. Use a production WSGI server instead.\n",
      " * Running on http://127.0.0.1:5000\n",
      "Press CTRL+C to quit\n",
      " * Restarting with stat\n"
     ]
    },
    {
     "ename": "SystemExit",
     "evalue": "1",
     "output_type": "error",
     "traceback": [
      "An exception has occurred, use %tb to see the full traceback.\n",
      "\u001b[1;31mSystemExit\u001b[0m\u001b[1;31m:\u001b[0m 1\n"
     ]
    }
   ],
   "source": [
    "import os\n",
    "import qrcode\n",
    "from flask import Flask, request, render_template, jsonify, send_file\n",
    "from io import BytesIO\n",
    "import traceback\n",
    "import uuid\n",
    "\n",
    "app = Flask(__name__)\n",
    "\n",
    "# Initialize the in-memory database (empty dictionary for now)\n",
    "customers = {}\n",
    "\n",
    "# Ensure the 'qr_codes' directory exists\n",
    "if not os.path.exists('qr_codes'):\n",
    "    os.makedirs('qr_codes')\n",
    "\n",
    "@app.route('/')\n",
    "def home():\n",
    "    return render_template('index.html')\n",
    "\n",
    "@app.route('/register', methods=['POST'])\n",
    "def register_customer():\n",
    "    try:\n",
    "        # Get form data\n",
    "        name = request.form.get('name')\n",
    "        email = request.form.get('email')\n",
    "        phone = request.form.get('phone')\n",
    "\n",
    "        if not name or not email or not phone:\n",
    "            return jsonify({'error': 'All fields are required'}), 400\n",
    "\n",
    "        # Generate a unique customer ID (UUID in this case)\n",
    "        customer_id = str(uuid.uuid4())\n",
    "\n",
    "        # Save the customer in the in-memory database\n",
    "        customers[customer_id] = {'name': name, 'email': email, 'phone': phone}\n",
    "\n",
    "        # Generate QR code for the customer ID\n",
    "        qr = qrcode.make(customer_id)\n",
    "        qr_file_path = f'qr_codes/{customer_id}.png'\n",
    "        qr.save(qr_file_path)\n",
    "\n",
    "        return render_template('registration_success.html', customer_id=customer_id, qr_code_url=f'/get_qr/{customer_id}')\n",
    "    except Exception as e:\n",
    "        traceback.print_exc()\n",
    "        return jsonify({'error': 'An error occurred during registration'}), 500\n",
    "\n",
    "@app.route('/get_qr/<customer_id>', methods=['GET'])\n",
    "def get_qr_code(customer_id):\n",
    "    try:\n",
    "        if customer_id not in customers:\n",
    "            return jsonify({'error': 'Customer not found'}), 404\n",
    "\n",
    "        qr_file_path = f'qr_codes/{customer_id}.png'\n",
    "        if not os.path.exists(qr_file_path):\n",
    "            return jsonify({'error': 'QR code not found'}), 404\n",
    "\n",
    "        return send_file(qr_file_path, mimetype='image/png')\n",
    "    except Exception as e:\n",
    "        traceback.print_exc()\n",
    "        return jsonify({'error': 'An error occurred while fetching the QR code'}), 500\n",
    "\n",
    "if __name__ == '__main__':\n",
    "    app.run(debug=False)\n",
    "\n",
    "\n"
   ]
  }
 ],
 "metadata": {
  "kernelspec": {
   "display_name": "Python 3",
   "language": "python",
   "name": "python3"
  },
  "language_info": {
   "codemirror_mode": {
    "name": "ipython",
    "version": 3
   },
   "file_extension": ".py",
   "mimetype": "text/x-python",
   "name": "python",
   "nbconvert_exporter": "python",
   "pygments_lexer": "ipython3",
   "version": "3.11.9"
  }
 },
 "nbformat": 4,
 "nbformat_minor": 5
}
